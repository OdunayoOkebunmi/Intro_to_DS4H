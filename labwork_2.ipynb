{
  "nbformat": 4,
  "nbformat_minor": 0,
  "metadata": {
    "anaconda-cloud": {},
    "colab": {
      "name": "labwork_2.ipynb",
      "provenance": []
    },
    "kernelspec": {
      "display_name": "Python 3",
      "language": "python",
      "name": "python3"
    },
    "language_info": {
      "codemirror_mode": {
        "name": "ipython",
        "version": 3
      },
      "file_extension": ".py",
      "mimetype": "text/x-python",
      "name": "python",
      "nbconvert_exporter": "python",
      "pygments_lexer": "ipython3",
      "version": "3.6.4"
    },
    "toc": {
      "colors": {
        "hover_highlight": "#DAA520",
        "running_highlight": "#FF0000",
        "selected_highlight": "#FFD700"
      },
      "moveMenuLeft": true,
      "nav_menu": {
        "height": "63px",
        "width": "252px"
      },
      "navigate_menu": true,
      "number_sections": true,
      "sideBar": true,
      "threshold": 4,
      "toc_cell": false,
      "toc_section_display": "block",
      "toc_window_display": false,
      "widenNotebook": false
    }
  },
  "cells": [
    {
      "cell_type": "markdown",
      "metadata": {
        "id": "6DJtd5A_kHw3"
      },
      "source": [
        "# Introduction to AI: assignment 2"
      ]
    },
    {
      "cell_type": "markdown",
      "metadata": {
        "id": "WmEolEmUkHw7"
      },
      "source": [
        "## A. Reading and visualizing the advertising data set"
      ]
    },
    {
      "cell_type": "markdown",
      "metadata": {
        "id": "RNQRKSlmot2Y"
      },
      "source": [
        "In this part you are going to use the data set contained in the file\n",
        "Advertising.csv1\n",
        ". In this data set, the sales of a product, in thousands of units, for 200 different markets are given. For each market, it is\n",
        "also given the budget, in thousands of dollars, spent in advertising\n",
        "in 3 different media: TV, radio and newspaper. The objective is to\n",
        "find an adequate prediction model linking the explanatory variables,\n",
        "i.e. advertising spending on each medium, with the output variable,\n",
        "the sales. In order to achieve this objective, we are going to test and\n",
        "compare different linear regression approaches.\n"
      ]
    },
    {
      "cell_type": "markdown",
      "metadata": {
        "id": "2Dly1DTDkHw9"
      },
      "source": [
        "Reading data from csv file"
      ]
    },
    {
      "cell_type": "markdown",
      "metadata": {
        "id": "egcIXJLmpP9o"
      },
      "source": [
        "To read the csv file Advertising.csv, you can use a library called\n",
        "pandas. Import the library with\n",
        "\n",
        "import pandas as pd "
      ]
    },
    {
      "cell_type": "markdown",
      "metadata": {
        "id": "bjBvAWqZpcXI"
      },
      "source": [
        "Read the csv file and store its content in a data frame with the command read_csv from pandas:\n",
        "df = pd.read_csv(\"path_to_the_file\") "
      ]
    },
    {
      "cell_type": "code",
      "metadata": {
        "colab": {
          "base_uri": "https://localhost:8080/"
        },
        "id": "8wB3ya3akHw-",
        "outputId": "edbe8f83-e0a1-4ecf-ef65-5da50c85296a"
      },
      "source": [
        "from google.colab import drive \n",
        "drive.mount('/content/gdrive')"
      ],
      "execution_count": null,
      "outputs": [
        {
          "name": "stdout",
          "output_type": "stream",
          "text": [
            "Mounted at /content/gdrive\n"
          ]
        }
      ]
    },
    {
      "cell_type": "code",
      "metadata": {
        "id": "NYTXFtUFyOLv"
      },
      "source": [
        "import pandas as pd"
      ],
      "execution_count": null,
      "outputs": []
    },
    {
      "cell_type": "code",
      "metadata": {
        "id": "GD3r9OITySRP"
      },
      "source": [
        "df = pd.read_csv('gdrive/My Drive/Colab Notebooks/Labwork_2/Advertising.csv')"
      ],
      "execution_count": null,
      "outputs": []
    },
    {
      "cell_type": "markdown",
      "metadata": {
        "id": "9IAiyKfJkHxA"
      },
      "source": [
        "Show what is inside the data frame"
      ]
    },
    {
      "cell_type": "code",
      "metadata": {
        "colab": {
          "base_uri": "https://localhost:8080/"
        },
        "id": "Igionw6PkHxA",
        "outputId": "e62a1c94-496f-446c-e224-93279a5254c5"
      },
      "source": [
        "print(df)"
      ],
      "execution_count": null,
      "outputs": [
        {
          "name": "stdout",
          "output_type": "stream",
          "text": [
            "     Unnamed: 0     TV  radio  newspaper  sales\n",
            "0             1  230.1   37.8       69.2   22.1\n",
            "1             2   44.5   39.3       45.1   10.4\n",
            "2             3   17.2   45.9       69.3    9.3\n",
            "3             4  151.5   41.3       58.5   18.5\n",
            "4             5  180.8   10.8       58.4   12.9\n",
            "..          ...    ...    ...        ...    ...\n",
            "195         196   38.2    3.7       13.8    7.6\n",
            "196         197   94.2    4.9        8.1    9.7\n",
            "197         198  177.0    9.3        6.4   12.8\n",
            "198         199  283.6   42.0       66.2   25.5\n",
            "199         200  232.1    8.6        8.7   13.4\n",
            "\n",
            "[200 rows x 5 columns]\n"
          ]
        }
      ]
    },
    {
      "cell_type": "markdown",
      "metadata": {
        "id": "NdKvuJybkHxC"
      },
      "source": [
        "Drop unnamed column"
      ]
    },
    {
      "cell_type": "markdown",
      "metadata": {
        "id": "E8aEL-BxpzQA"
      },
      "source": [
        "If the data frame contain an extra unnamed column, remove it with\n",
        "the command drop from pandas:\n",
        "df.drop(df.columns[0] , axis =1)"
      ]
    },
    {
      "cell_type": "code",
      "metadata": {
        "colab": {
          "base_uri": "https://localhost:8080/"
        },
        "id": "ePU5BzDlkHxD",
        "outputId": "c11cd13e-36a5-4464-a745-e19a50965b68"
      },
      "source": [
        "df = df.drop(df.columns[0], axis=1)\n",
        "print(df)"
      ],
      "execution_count": null,
      "outputs": [
        {
          "name": "stdout",
          "output_type": "stream",
          "text": [
            "        TV  radio  newspaper  sales\n",
            "0    230.1   37.8       69.2   22.1\n",
            "1     44.5   39.3       45.1   10.4\n",
            "2     17.2   45.9       69.3    9.3\n",
            "3    151.5   41.3       58.5   18.5\n",
            "4    180.8   10.8       58.4   12.9\n",
            "..     ...    ...        ...    ...\n",
            "195   38.2    3.7       13.8    7.6\n",
            "196   94.2    4.9        8.1    9.7\n",
            "197  177.0    9.3        6.4   12.8\n",
            "198  283.6   42.0       66.2   25.5\n",
            "199  232.1    8.6        8.7   13.4\n",
            "\n",
            "[200 rows x 4 columns]\n"
          ]
        }
      ]
    },
    {
      "cell_type": "markdown",
      "metadata": {
        "id": "4egvEPw_kHxE"
      },
      "source": [
        "Import numpy, generate feature matrix $\\mathbf{X}$ and generate output array $\\mathbf{y}$ "
      ]
    },
    {
      "cell_type": "code",
      "metadata": {
        "id": "dUHXwUKakHxE"
      },
      "source": [
        "import numpy as np\n",
        " \n",
        "X = df[['TV', 'radio', 'newspaper']]\n",
        "X = X.to_numpy()\n",
        "y = df[['sales']]\n",
        "y = y.to_numpy()\n"
      ],
      "execution_count": null,
      "outputs": []
    },
    {
      "cell_type": "markdown",
      "metadata": {
        "id": "_bLzwoPkkHxF"
      },
      "source": [
        "Print first row to check"
      ]
    },
    {
      "cell_type": "code",
      "metadata": {
        "colab": {
          "base_uri": "https://localhost:8080/"
        },
        "id": "rmZ1W83jkHxG",
        "outputId": "820d4530-e0c7-451d-aa18-2eed10c1010e"
      },
      "source": [
        "head, *tail = X\n",
        "print(head)\n",
        "head, *tail = y\n",
        "print(head)\n"
      ],
      "execution_count": null,
      "outputs": [
        {
          "name": "stdout",
          "output_type": "stream",
          "text": [
            "[230.1  37.8  69.2]\n",
            "[22.1]\n"
          ]
        }
      ]
    },
    {
      "cell_type": "markdown",
      "metadata": {
        "id": "PAS9uK_vkHxG"
      },
      "source": [
        "Scatter plots for $\\mathbf{y}$ againts each considered feature  "
      ]
    },
    {
      "cell_type": "markdown",
      "metadata": {
        "id": "kZ2pWspXqbQw"
      },
      "source": [
        "Import pyplot from matplotlib and generate separate scatter plots of\n",
        "y against each feature."
      ]
    },
    {
      "cell_type": "markdown",
      "metadata": {
        "id": "-sM1KppfkHxH"
      },
      "source": [
        "Sales *vs*. TV"
      ]
    },
    {
      "cell_type": "code",
      "metadata": {
        "colab": {
          "base_uri": "https://localhost:8080/",
          "height": 241
        },
        "id": "ZqcWRFpNkHxH",
        "outputId": "3cc54e06-e7bc-4684-ad69-cf5c3db76f57"
      },
      "source": [
        "import matplotlib.pyplot as plt\n",
        "%matplotlib inline\n",
        "plt.rcParams[\"figure.figsize\"] = (20,3)\n",
        "plt.scatter(X[:,0],y);\n",
        "plt.title(\"Scatter plot of sales vs. TV advertising\");\n",
        "plt.xlabel(\"TV\");\n",
        "plt.ylabel(\"Sales\");"
      ],
      "execution_count": null,
      "outputs": [
        {
          "data": {
            "image/png": "[encoded data removed]",
            "text/plain": [
              "<Figure size 1440x216 with 1 Axes>"
            ]
          },
          "metadata": {},
          "output_type": "display_data"
        }
      ]
    },
    {
      "cell_type": "markdown",
      "metadata": {
        "id": "Qwviz8UrkHxI"
      },
      "source": [
        "Sales *vs*. Radio"
      ]
    },
    {
      "cell_type": "code",
      "metadata": {
        "colab": {
          "base_uri": "https://localhost:8080/",
          "height": 241
        },
        "id": "juBjE5DFkHxJ",
        "scrolled": true,
        "outputId": "884e3db3-0679-4217-bca1-4959fda8cd4f"
      },
      "source": [
        "plt.rcParams[\"figure.figsize\"] = (20,3)\n",
        "plt.scatter(X[:,1],y, c='r');\n",
        "plt.title(\"Scatter plot of sales vs. Radio advertising\");\n",
        "plt.xlabel(\"Radio\");\n",
        "plt.ylabel(\"Sales\");"
      ],
      "execution_count": null,
      "outputs": [
        {
          "data": {
            "image/png": "[encoded data removed]",
            "text/plain": [
              "<Figure size 1440x216 with 1 Axes>"
            ]
          },
          "metadata": {},
          "output_type": "display_data"
        }
      ]
    },
    {
      "cell_type": "markdown",
      "metadata": {
        "id": "gNEhbHsZkHxK"
      },
      "source": [
        "Sales *vs*. Newspaper"
      ]
    },
    {
      "cell_type": "code",
      "metadata": {
        "colab": {
          "base_uri": "https://localhost:8080/",
          "height": 241
        },
        "id": "tB2ffkbkkHxK",
        "outputId": "af01f07a-2af4-4570-95be-80268ef94f9f"
      },
      "source": [
        "plt.rcParams[\"figure.figsize\"] = (20,3)\n",
        "plt.scatter(X[:,1],y, c='g');\n",
        "plt.title(\"Scatter plot of sales vs. Newspaper advertising\");\n",
        "plt.xlabel(\"Newspaper\");\n",
        "plt.ylabel(\"Sales\");"
      ],
      "execution_count": null,
      "outputs": [
        {
          "data": {
            "image/png": "[encoded data removed]",
            "text/plain": [
              "<Figure size 1440x216 with 1 Axes>"
            ]
          },
          "metadata": {},
          "output_type": "display_data"
        }
      ]
    },
    {
      "cell_type": "markdown",
      "metadata": {
        "id": "Pgm2E9_ykHxL"
      },
      "source": [
        "Plotting the 3 scatter plots at once in a subplot"
      ]
    },
    {
      "cell_type": "code",
      "metadata": {
        "colab": {
          "base_uri": "https://localhost:8080/",
          "height": 228
        },
        "id": "ojQzjD8AkHxM",
        "outputId": "af8a53ae-3049-4b5e-905b-cdca816910eb"
      },
      "source": [
        "plt.rcParams[\"figure.figsize\"] = (20,3)\n",
        "fig, axs = plt.subplots(1,3, sharey=True)\n",
        "axs[0].scatter(X[:,0],y)\n",
        "axs[1].scatter(X[:,1],y,c='r')\n",
        "axs[2].scatter(X[:,2],y, c='g')"
      ],
      "execution_count": null,
      "outputs": [
        {
          "data": {
            "text/plain": [
              "<matplotlib.collections.PathCollection at 0x7f88fc33ef90>"
            ]
          },
          "execution_count": 13,
          "metadata": {},
          "output_type": "execute_result"
        },
        {
          "data": {
            "image/png": "[encoded data removed]",
            "text/plain": [
              "<Figure size 1440x216 with 3 Axes>"
            ]
          },
          "metadata": {},
          "output_type": "display_data"
        }
      ]
    },
    {
      "cell_type": "markdown",
      "metadata": {
        "id": "WQMiGM5CkHxN"
      },
      "source": [
        "## B. Simple linear regression"
      ]
    },
    {
      "cell_type": "markdown",
      "metadata": {
        "id": "uai8eWYwkHxN"
      },
      "source": [
        "Import linear regression functions from Scikit-learn"
      ]
    },
    {
      "cell_type": "code",
      "metadata": {
        "id": "kWT-2uC4kHxO"
      },
      "source": [
        "from sklearn import linear_model as lm ,metrics as met"
      ],
      "execution_count": null,
      "outputs": []
    },
    {
      "cell_type": "markdown",
      "metadata": {
        "id": "O1zt1zh6kHxO"
      },
      "source": [
        "Linear regression for TV spending"
      ]
    },
    {
      "cell_type": "code",
      "metadata": {
        "colab": {
          "base_uri": "https://localhost:8080/",
          "height": 279
        },
        "id": "qzr7Ey73kHxP",
        "outputId": "0588da70-636f-48ae-b77b-8c1a9ebffe31"
      },
      "source": [
        "# Define the linear regressor object\n",
        "linreg_1 = lm.LinearRegression()\n",
        "x_1 = X[:,[0]]\n",
        "\n",
        "# Train the linear regressor\n",
        "\n",
        "linreg_1.fit(x_1,y)\n",
        "# Use the regressor to predict the regression segment. \n",
        "yhat = linreg_1.predict(x_1)\n",
        "# Calculate the MSE, RMSE, R^2\n",
        "MSE_1 = met.mean_squared_error(y,yhat)\n",
        "RMSE_1 = np.sqrt(MSE_1)\n",
        "R_2_1 = met.r2_score(y, linreg_1.predict(x_1))\n",
        "\n",
        "# Print the quantities you calculated\n",
        "\n",
        "print('beta_0 = {}, beta_1 = {}'.format(linreg_1.intercept_[0],\n",
        "                                        linreg_1.coef_[0,0]))\n",
        "print('MSE = ',MSE_1)\n",
        "print('RMSE = ',RMSE_1)\n",
        "print('R^2 = ',R_2_1)\n",
        "\n",
        "\n",
        "#  What are the x-extrema of the segment?\n",
        "\n",
        "# Scatter plot the data and the prediction line\n",
        "\n",
        "plt.scatter(y, yhat);"
      ],
      "execution_count": null,
      "outputs": [
        {
          "name": "stdout",
          "output_type": "stream",
          "text": [
            "beta_0 = 7.032593549127695, beta_1 = 0.04753664043301975\n",
            "MSE =  10.512652915656757\n",
            "RMSE =  3.2423221486546887\n",
            "R^2 =  0.611875050850071\n"
          ]
        },
        {
          "data": {
            "image/png": "[encoded data removed]",
            "text/plain": [
              "<Figure size 1440x216 with 1 Axes>"
            ]
          },
          "metadata": {},
          "output_type": "display_data"
        }
      ]
    },
    {
      "cell_type": "markdown",
      "metadata": {
        "id": "OSPbBmoPkHxQ"
      },
      "source": [
        "Linear regression for radio spending"
      ]
    },
    {
      "cell_type": "code",
      "metadata": {
        "colab": {
          "base_uri": "https://localhost:8080/",
          "height": 279
        },
        "id": "FX9Odle6kHxR",
        "outputId": "27aa7e90-1005-4028-ad93-102a0760193b"
      },
      "source": [
        "linreg_2 = lm.LinearRegression()\n",
        "x_2 = X[:,[1]]\n",
        "linreg_2.fit(x_2,y)\n",
        "yhat = linreg_2.predict(x_2)\n",
        "#Print the quantities you calculated\n",
        "MSE_2 = met.mean_squared_error(y, yhat)\n",
        "RMSE_2 = np.sqrt(MSE_2)\n",
        "R_2_2 = met.r2_score(y, yhat)\n",
        "print('beta_0 = {}, beta_1 = {}'.format(linreg_2.intercept_[0],\n",
        "                                        linreg_2.coef_[0,0]))\n",
        "print('MSE = ',MSE_2)\n",
        "print('RMSE = ',RMSE_2)\n",
        "print('R^2 = ',R_2_2)\n",
        "plt.scatter(y,yhat , c='r');"
      ],
      "execution_count": null,
      "outputs": [
        {
          "name": "stdout",
          "output_type": "stream",
          "text": [
            "beta_0 = 9.311638095158283, beta_1 = 0.20249578339243965\n",
            "MSE =  18.09239774512544\n",
            "RMSE =  4.2535159274564185\n",
            "R^2 =  0.33203245544529525\n"
          ]
        },
        {
          "data": {
            "image/png": "[encoded data removed]",
            "text/plain": [
              "<Figure size 1440x216 with 1 Axes>"
            ]
          },
          "metadata": {},
          "output_type": "display_data"
        }
      ]
    },
    {
      "cell_type": "markdown",
      "metadata": {
        "id": "xFMndsa3kHxS"
      },
      "source": [
        "Linear regression for newspaper spending"
      ]
    },
    {
      "cell_type": "code",
      "metadata": {
        "colab": {
          "base_uri": "https://localhost:8080/",
          "height": 279
        },
        "id": "400ZDgcfkHxS",
        "outputId": "63643d6b-804c-489a-ce2b-02426c346c20"
      },
      "source": [
        "linreg_3 = lm.LinearRegression()\n",
        "x_3 = X[:,[2]]\n",
        "linreg_3.fit(x_3,y)\n",
        "yhat = linreg_3.predict(x_3)\n",
        "#Print the quantities you calculated\n",
        "MSE_3 = met.mean_squared_error(y, yhat)\n",
        "RMSE_3 = np.sqrt(MSE_3)\n",
        "R_2_3 = met.r2_score(y, yhat)\n",
        "print('beta_0 = {}, beta_1 = {}'.format(linreg_3.intercept_[0],\n",
        "                                        linreg_3.coef_[0,0]))\n",
        "print('MSE = ',MSE_3)\n",
        "print('RMSE = ',RMSE_3)\n",
        "print('R^2 = ',R_2_3)\n",
        "plt.scatter(y,yhat , c='g');"
      ],
      "execution_count": null,
      "outputs": [
        {
          "name": "stdout",
          "output_type": "stream",
          "text": [
            "beta_0 = 12.35140706927816, beta_1 = 0.05469309847227336\n",
            "MSE =  25.674022720559698\n",
            "RMSE =  5.066953988399707\n",
            "R^2 =  0.05212044544430516\n"
          ]
        },
        {
          "data": {
            "image/png": "[encoded data removed]",
            "text/plain": [
              "<Figure size 1440x216 with 1 Axes>"
            ]
          },
          "metadata": {},
          "output_type": "display_data"
        }
      ]
    },
    {
      "cell_type": "markdown",
      "metadata": {
        "id": "ftq5t_JkkHxT"
      },
      "source": [
        "## C. Multiple linear regression with 2 or 3 explanatory variables"
      ]
    },
    {
      "cell_type": "markdown",
      "metadata": {
        "id": "CC0P6cqFkHxU"
      },
      "source": [
        "Linear regression for TV and radio spendings"
      ]
    },
    {
      "cell_type": "code",
      "metadata": {
        "colab": {
          "base_uri": "https://localhost:8080/"
        },
        "id": "_Zq8kaJWkHxU",
        "scrolled": true,
        "outputId": "1727c2f5-7417-4264-a119-9ec68adb4cab"
      },
      "source": [
        "M1=df[['TV','radio']]\n",
        "linreg_M1 = lm.LinearRegression() \n",
        "linreg_M1.fit(M1, y)\n",
        "yhat = linreg_M1.predict(M1)\n",
        "MSE_M1 = met.mean_squared_error(y, yhat)\n",
        "RMSE_M1=np.sqrt(MSE_M1)\n",
        "R2_M1=met.r2_score(y, yhat)\n",
        "print('beta_0:',linreg_M1.intercept_,',beta_1M1 beta_2M1 :',linreg_M1.coef_)\n",
        "\n",
        "print('MSE_M1 :',MSE_M1)\n",
        "print('RMSE_M1:',RMSE_M1)\n",
        "print('R2_M1 :',R2_M1)"
      ],
      "execution_count": null,
      "outputs": [
        {
          "name": "stdout",
          "output_type": "stream",
          "text": [
            "beta_0: [2.92109991] ,beta_1M1 beta_2M1 : [[0.04575482 0.18799423]]\n",
            "MSE_M1 : 2.784569900338091\n",
            "RMSE_M1: 1.6687030593661927\n",
            "R2_M1 : 0.8971942610828957\n"
          ]
        }
      ]
    },
    {
      "cell_type": "markdown",
      "metadata": {
        "id": "tFjpNnHZkHxV"
      },
      "source": [
        "Linear regression for TV and newspaper spendings"
      ]
    },
    {
      "cell_type": "code",
      "metadata": {
        "colab": {
          "base_uri": "https://localhost:8080/"
        },
        "id": "PobaMRnakHxV",
        "outputId": "86400885-cae3-4502-9dde-27d58f022be0"
      },
      "source": [
        "M2=df[['TV','newspaper']]\n",
        "linreg_M2 = lm. LinearRegression () \n",
        "linreg_M2.fit(M2, y)\n",
        "yhat = linreg_M2.predict(M2)\n",
        "MSE_M2 = met.mean_squared_error(y, yhat)\n",
        "RMSE_M2=np.sqrt(MSE_M2)\n",
        "R2_M2=met.r2_score(y, yhat)\n",
        "print('beta_0M2:',linreg_M2.intercept_,',beta_1M2 beta_2M2 :',linreg_M2.coef_)\n",
        "\n",
        "print('MSE_M2 :',MSE_M2)\n",
        "print('RMSE_M2:',RMSE_M2)\n",
        "print('R2_M2 :',R2_M2)"
      ],
      "execution_count": null,
      "outputs": [
        {
          "name": "stdout",
          "output_type": "stream",
          "text": [
            "beta_0M2: [5.77494797] ,beta_1M2 beta_2M2 : [[0.04690121 0.04421942]]\n",
            "MSE_M2 : 9.59280905948414\n",
            "RMSE_M2: 3.097226026541192\n",
            "R2_M2 : 0.6458354938293271\n"
          ]
        }
      ]
    },
    {
      "cell_type": "markdown",
      "metadata": {
        "id": "hYHnIh4ZkHxW"
      },
      "source": [
        "Linear regression for radio and newspaper spendings"
      ]
    },
    {
      "cell_type": "code",
      "metadata": {
        "colab": {
          "base_uri": "https://localhost:8080/"
        },
        "id": "Pxi1FjNwkHxW",
        "outputId": "0e143aab-3d0e-49fd-8d66-c773a570823b"
      },
      "source": [
        "M3=df[['radio','newspaper']]\n",
        "linreg_M3 = lm. LinearRegression () \n",
        "linreg_M3.fit(M3, y)\n",
        "yhat = linreg_M3.predict(M3)\n",
        "MSE_M3 = met.mean_squared_error(y, yhat)\n",
        "RMSE_M3=np.sqrt(MSE_M3)\n",
        "R2_M3=met.r2_score(y, yhat)\n",
        "print('beta_0M3:',linreg_M3.intercept_,',beta_1M3 beta_2M3 :',linreg_M3.coef_)\n",
        "print('MSE_M3 :',MSE_M3)\n",
        "print('RMSE_M3:',RMSE_M3)\n",
        "print('R2_M3 :',R2_M3)"
      ],
      "execution_count": null,
      "outputs": [
        {
          "name": "stdout",
          "output_type": "stream",
          "text": [
            "beta_0M3: [9.18892046] ,beta_1M3 beta_2M3 : [[0.19904459 0.00664417]]\n",
            "MSE_M3 : 18.074176393224953\n",
            "RMSE_M3: 4.251373471388388\n",
            "R2_M3 : 0.33270518395032256\n"
          ]
        }
      ]
    },
    {
      "cell_type": "markdown",
      "metadata": {
        "id": "mcbjHykwkHxX"
      },
      "source": [
        "Linear regression for TV, radio and newspaper spendings"
      ]
    },
    {
      "cell_type": "code",
      "metadata": {
        "colab": {
          "base_uri": "https://localhost:8080/"
        },
        "id": "RoIk7MDgkHxX",
        "outputId": "4d12a5e4-24e8-4c8f-fcff-6f13b273ccb8"
      },
      "source": [
        "M4=df[['TV','radio','newspaper']]\n",
        "linreg_M4 = lm. LinearRegression () \n",
        "linreg_M4.fit(M4, y)\n",
        "yhat =  linreg_M4.predict(M4)\n",
        "MSE_M4 = met.mean_squared_error(y,yhat)\n",
        "RMSE_M4=np.sqrt(MSE_M4)\n",
        "R2_M4=met.r2_score(y,yhat)\n",
        "print('beta_0M4:',linreg_M4.intercept_,',beta_1M4 beta_2M4 :',linreg_M4.coef_)\n",
        "\n",
        "print('MSE_M4 :',MSE_M4)\n",
        "print('RMSE_M4:',RMSE_M4)\n",
        "print('R2_M4 :',R2_M4)"
      ],
      "execution_count": null,
      "outputs": [
        {
          "name": "stdout",
          "output_type": "stream",
          "text": [
            "beta_0M4: [2.93888937] ,beta_1M4 beta_2M4 : [[ 0.04576465  0.18853002 -0.00103749]]\n",
            "MSE_M4 : 2.784126314510936\n",
            "RMSE_M4: 1.6685701407225697\n",
            "R2_M4 : 0.8972106381789522\n"
          ]
        }
      ]
    }
  ]
}